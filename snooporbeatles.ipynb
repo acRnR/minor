{
 "cells": [
  {
   "cell_type": "code",
   "execution_count": 1,
   "metadata": {
    "collapsed": true
   },
   "outputs": [],
   "source": [
    "import os"
   ]
  },
  {
   "cell_type": "code",
   "execution_count": 6,
   "metadata": {
    "collapsed": false
   },
   "outputs": [],
   "source": [
    "pathbeatles = os.listdir('c:/users/student/documents/downloads/beatles')\n",
    "pathsnoop = os.listdir('c:/users/student/documents/snoop')"
   ]
  },
  {
   "cell_type": "code",
   "execution_count": 28,
   "metadata": {
    "collapsed": false
   },
   "outputs": [],
   "source": [
    "names = []\n",
    "texts = []"
   ]
  },
  {
   "cell_type": "code",
   "execution_count": 29,
   "metadata": {
    "collapsed": false
   },
   "outputs": [],
   "source": [
    "for i in range(1, 76):\n",
    "    if i != 26:\n",
    "        names.append('c:/users/student/documents/downloads/beatles/'+str(i)+'.txt')\n",
    "    names.append('c:/users/student/documents/downloads/snoop/'+str(i)+'.txt')"
   ]
  },
  {
   "cell_type": "code",
   "execution_count": 30,
   "metadata": {
    "collapsed": false
   },
   "outputs": [],
   "source": [
    "for name in names:\n",
    "    with open(name, 'r') as a:\n",
    "        m = []\n",
    "        for string in a:\n",
    "            words = string.split(' ')\n",
    "            for word in words:\n",
    "                word = word.strip('.,!?^$@#:;_- []()\\|/\\n\\ufeff')\n",
    "                word = word.lower()\n",
    "                m.append(word)\n",
    "                text = ' '.join(m)\n",
    "                texts.append(text)"
   ]
  },
  {
   "cell_type": "code",
   "execution_count": null,
   "metadata": {
    "collapsed": true
   },
   "outputs": [],
   "source": []
  }
 ],
 "metadata": {
  "kernelspec": {
   "display_name": "Python 3",
   "language": "python",
   "name": "python3"
  },
  "language_info": {
   "codemirror_mode": {
    "name": "ipython",
    "version": 3
   },
   "file_extension": ".py",
   "mimetype": "text/x-python",
   "name": "python",
   "nbconvert_exporter": "python",
   "pygments_lexer": "ipython3",
   "version": "3.6.0"
  }
 },
 "nbformat": 4,
 "nbformat_minor": 2
}
